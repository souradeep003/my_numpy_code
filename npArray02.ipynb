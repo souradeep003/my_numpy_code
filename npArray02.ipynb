{
 "cells": [
  {
   "cell_type": "code",
   "execution_count": 1,
   "id": "fc5bd5f6-0ca9-4397-83b7-dfb6c7ff7227",
   "metadata": {},
   "outputs": [],
   "source": [
    "import numpy as np"
   ]
  },
  {
   "cell_type": "code",
   "execution_count": 2,
   "id": "5fbb5ddf-6e6e-4ae6-9c1f-813594950e70",
   "metadata": {},
   "outputs": [],
   "source": [
    "zeros=np.zeros((2,5))"
   ]
  },
  {
   "cell_type": "code",
   "execution_count": 3,
   "id": "531d33b7-fd24-48d7-ac6d-2bb28b954a78",
   "metadata": {},
   "outputs": [
    {
     "data": {
      "text/plain": [
       "array([[0., 0., 0., 0., 0.],\n",
       "       [0., 0., 0., 0., 0.]])"
      ]
     },
     "execution_count": 3,
     "metadata": {},
     "output_type": "execute_result"
    }
   ],
   "source": [
    "zeros"
   ]
  },
  {
   "cell_type": "code",
   "execution_count": 16,
   "id": "b0903b48-aa16-4425-8f5a-19507cfcf159",
   "metadata": {},
   "outputs": [],
   "source": [
    "ones=np.ones((2,2))"
   ]
  },
  {
   "cell_type": "code",
   "execution_count": 11,
   "id": "e56b01c3-c941-4e53-892d-17f7aa11af4f",
   "metadata": {},
   "outputs": [
    {
     "data": {
      "text/plain": [
       "array([[1., 1.],\n",
       "       [1., 1.]])"
      ]
     },
     "execution_count": 11,
     "metadata": {},
     "output_type": "execute_result"
    }
   ],
   "source": [
    "ones"
   ]
  },
  {
   "cell_type": "raw",
   "id": "23534814-fe40-4373-86e6-1874a9d7edf2",
   "metadata": {},
   "source": [
    "rng=np.arrange(10)\n"
   ]
  },
  {
   "cell_type": "code",
   "execution_count": 19,
   "id": "845c3168-1be1-4636-bf31-f291d9e6985d",
   "metadata": {},
   "outputs": [],
   "source": [
    "lsp=np.linspace(1,5,12)"
   ]
  },
  {
   "cell_type": "code",
   "execution_count": 20,
   "id": "252c9b1f-fb62-485f-881d-ad6697fcc6d5",
   "metadata": {},
   "outputs": [
    {
     "data": {
      "text/plain": [
       "array([1.        , 1.36363636, 1.72727273, 2.09090909, 2.45454545,\n",
       "       2.81818182, 3.18181818, 3.54545455, 3.90909091, 4.27272727,\n",
       "       4.63636364, 5.        ])"
      ]
     },
     "execution_count": 20,
     "metadata": {},
     "output_type": "execute_result"
    }
   ],
   "source": [
    "lsp"
   ]
  },
  {
   "cell_type": "code",
   "execution_count": 21,
   "id": "557f279b-b8a9-4351-b3ce-e87c02c536cb",
   "metadata": {},
   "outputs": [],
   "source": [
    "emp=np.empty((2,2))"
   ]
  },
  {
   "cell_type": "code",
   "execution_count": 22,
   "id": "e66b3b0f-5324-4d83-9b53-71cc483f50bf",
   "metadata": {},
   "outputs": [
    {
     "data": {
      "text/plain": [
       "array([[1., 1.],\n",
       "       [1., 1.]])"
      ]
     },
     "execution_count": 22,
     "metadata": {},
     "output_type": "execute_result"
    }
   ],
   "source": [
    "emp"
   ]
  },
  {
   "cell_type": "code",
   "execution_count": null,
   "id": "1b0e42e2-9d08-4087-9d25-f5eb9c8ece15",
   "metadata": {},
   "outputs": [],
   "source": []
  }
 ],
 "metadata": {
  "kernelspec": {
   "display_name": "Python 3 (ipykernel)",
   "language": "python",
   "name": "python3"
  },
  "language_info": {
   "codemirror_mode": {
    "name": "ipython",
    "version": 3
   },
   "file_extension": ".py",
   "mimetype": "text/x-python",
   "name": "python",
   "nbconvert_exporter": "python",
   "pygments_lexer": "ipython3",
   "version": "3.10.7"
  }
 },
 "nbformat": 4,
 "nbformat_minor": 5
}
