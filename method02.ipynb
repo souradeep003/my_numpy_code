{
 "cells": [
  {
   "cell_type": "code",
   "execution_count": 1,
   "id": "d48ba4dd-41c2-42c7-bf8a-edd2f84a124f",
   "metadata": {},
   "outputs": [],
   "source": [
    "import numpy as np"
   ]
  },
  {
   "cell_type": "code",
   "execution_count": 3,
   "id": "01033e1f-8d8f-4506-934d-01d4087874f3",
   "metadata": {},
   "outputs": [],
   "source": [
    "ar1=np.array([[1,2],[5,6]])"
   ]
  },
  {
   "cell_type": "code",
   "execution_count": 4,
   "id": "4ad7c0f6-dff0-4e75-8852-36c497c4c9b4",
   "metadata": {},
   "outputs": [],
   "source": [
    "ar2=np.array([[3,4],[7,8]])"
   ]
  },
  {
   "cell_type": "code",
   "execution_count": 5,
   "id": "c1032568-d43f-478e-ae19-f95ad4193487",
   "metadata": {},
   "outputs": [
    {
     "data": {
      "text/plain": [
       "array([[ 4,  6],\n",
       "       [12, 14]])"
      ]
     },
     "execution_count": 5,
     "metadata": {},
     "output_type": "execute_result"
    }
   ],
   "source": [
    "ar1+ar2"
   ]
  },
  {
   "cell_type": "code",
   "execution_count": 6,
   "id": "873d3ca7-d9b3-47b0-bfcb-3899f0bb8ec0",
   "metadata": {},
   "outputs": [
    {
     "data": {
      "text/plain": [
       "array([[1.        , 1.41421356],\n",
       "       [2.23606798, 2.44948974]])"
      ]
     },
     "execution_count": 6,
     "metadata": {},
     "output_type": "execute_result"
    }
   ],
   "source": [
    "np.sqrt(ar1)"
   ]
  },
  {
   "cell_type": "code",
   "execution_count": 7,
   "id": "112f746f-1e11-4d28-a7fd-8c5d350e6f00",
   "metadata": {},
   "outputs": [
    {
     "data": {
      "text/plain": [
       "14"
      ]
     },
     "execution_count": 7,
     "metadata": {},
     "output_type": "execute_result"
    }
   ],
   "source": [
    "ar1.sum()"
   ]
  },
  {
   "cell_type": "code",
   "execution_count": 9,
   "id": "2dfda055-55f2-4a59-9a1a-5ce7f99b6beb",
   "metadata": {},
   "outputs": [
    {
     "data": {
      "text/plain": [
       "6"
      ]
     },
     "execution_count": 9,
     "metadata": {},
     "output_type": "execute_result"
    }
   ],
   "source": [
    "ar1.max()"
   ]
  },
  {
   "cell_type": "code",
   "execution_count": 10,
   "id": "e47164c2-4bde-478e-9c41-0e19b5cd14ef",
   "metadata": {},
   "outputs": [
    {
     "data": {
      "text/plain": [
       "(array([1, 1], dtype=int64), array([0, 1], dtype=int64))"
      ]
     },
     "execution_count": 10,
     "metadata": {},
     "output_type": "execute_result"
    }
   ],
   "source": [
    "np.where(ar1>4)"
   ]
  },
  {
   "cell_type": "code",
   "execution_count": null,
   "id": "fc49d464-8e7b-46d9-ac8f-f8c48b8e4586",
   "metadata": {},
   "outputs": [],
   "source": []
  }
 ],
 "metadata": {
  "kernelspec": {
   "display_name": "Python 3 (ipykernel)",
   "language": "python",
   "name": "python3"
  },
  "language_info": {
   "codemirror_mode": {
    "name": "ipython",
    "version": 3
   },
   "file_extension": ".py",
   "mimetype": "text/x-python",
   "name": "python",
   "nbconvert_exporter": "python",
   "pygments_lexer": "ipython3",
   "version": "3.10.7"
  }
 },
 "nbformat": 4,
 "nbformat_minor": 5
}
